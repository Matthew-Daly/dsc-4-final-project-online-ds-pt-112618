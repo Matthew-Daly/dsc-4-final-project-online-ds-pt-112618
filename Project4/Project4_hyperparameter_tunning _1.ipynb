{
 "cells": [
  {
   "cell_type": "code",
   "execution_count": 1,
   "metadata": {},
   "outputs": [
    {
     "name": "stderr",
     "output_type": "stream",
     "text": [
      "Using TensorFlow backend.\n"
     ]
    }
   ],
   "source": [
    "import pandas as pd\n",
    "import matplotlib.pyplot as plt\n",
    "import matplotlib.style as style\n",
    "import seaborn as sns\n",
    "import numpy as np\n",
    "from sklearn.preprocessing import LabelBinarizer\n",
    "from sklearn.model_selection import train_test_split\n",
    "import keras\n",
    "from keras.models import Sequential\n",
    "from keras.layers import Dense, Conv2D, MaxPooling2D, Flatten, Dropout\n",
    "import matplotlib.style as style\n",
    "from keras import layers\n",
    "from keras import models\n",
    "from keras import optimizers\n",
    "from sklearn.metrics import accuracy_score\n",
    "style.use('fivethirtyeight')"
   ]
  },
  {
   "cell_type": "code",
   "execution_count": 2,
   "metadata": {},
   "outputs": [],
   "source": [
    "df_train = pd.read_csv('sign-language-mnist/sign_mnist_train.csv')\n",
    "df_test = pd.read_csv('sign-language-mnist/sign_mnist_test.csv')"
   ]
  },
  {
   "cell_type": "code",
   "execution_count": 3,
   "metadata": {},
   "outputs": [],
   "source": [
    "labels = df_train['label'].values"
   ]
  },
  {
   "cell_type": "code",
   "execution_count": 4,
   "metadata": {},
   "outputs": [],
   "source": [
    "df_train.drop('label', axis=1, inplace=True)"
   ]
  },
  {
   "cell_type": "code",
   "execution_count": 5,
   "metadata": {},
   "outputs": [],
   "source": [
    "images = df_train.values\n",
    "images = np.array([np.reshape(i, (28, 28)) for i in images])\n",
    "images = np.array([i.flatten() for i in images])"
   ]
  },
  {
   "cell_type": "code",
   "execution_count": 6,
   "metadata": {},
   "outputs": [],
   "source": [
    "label_bin = LabelBinarizer()\n",
    "labels = label_bin.fit_transform(labels)"
   ]
  },
  {
   "cell_type": "code",
   "execution_count": 7,
   "metadata": {},
   "outputs": [],
   "source": [
    "x_train, x_test, y_train, y_test = train_test_split(images, labels, test_size = 0.3, random_state = 101)"
   ]
  },
  {
   "cell_type": "code",
   "execution_count": 8,
   "metadata": {},
   "outputs": [],
   "source": [
    "x_train = x_train / 255\n",
    "x_test = x_test / 255"
   ]
  },
  {
   "cell_type": "code",
   "execution_count": 9,
   "metadata": {},
   "outputs": [],
   "source": [
    "x_train = x_train.reshape(x_train.shape[0], 28, 28, 1)\n",
    "x_test = x_test.reshape(x_test.shape[0], 28, 28, 1)"
   ]
  },
  {
   "cell_type": "code",
   "execution_count": 10,
   "metadata": {},
   "outputs": [],
   "source": [
    "batch_size = 128\n",
    "num_classes = 24\n",
    "epochs = 20"
   ]
  },
  {
   "cell_type": "code",
   "execution_count": 11,
   "metadata": {},
   "outputs": [
    {
     "name": "stderr",
     "output_type": "stream",
     "text": [
      "WARNING: Logging before flag parsing goes to stderr.\n",
      "W0730 12:15:53.284856 140330552887040 deprecation_wrapper.py:119] From /home/matthew/anaconda3/lib/python3.7/site-packages/keras/backend/tensorflow_backend.py:74: The name tf.get_default_graph is deprecated. Please use tf.compat.v1.get_default_graph instead.\n",
      "\n",
      "W0730 12:15:53.303421 140330552887040 deprecation_wrapper.py:119] From /home/matthew/anaconda3/lib/python3.7/site-packages/keras/backend/tensorflow_backend.py:517: The name tf.placeholder is deprecated. Please use tf.compat.v1.placeholder instead.\n",
      "\n",
      "W0730 12:15:53.306244 140330552887040 deprecation_wrapper.py:119] From /home/matthew/anaconda3/lib/python3.7/site-packages/keras/backend/tensorflow_backend.py:4138: The name tf.random_uniform is deprecated. Please use tf.random.uniform instead.\n",
      "\n",
      "W0730 12:15:53.333872 140330552887040 deprecation_wrapper.py:119] From /home/matthew/anaconda3/lib/python3.7/site-packages/keras/backend/tensorflow_backend.py:3976: The name tf.nn.max_pool is deprecated. Please use tf.nn.max_pool2d instead.\n",
      "\n",
      "W0730 12:15:53.389343 140330552887040 deprecation_wrapper.py:119] From /home/matthew/anaconda3/lib/python3.7/site-packages/keras/backend/tensorflow_backend.py:133: The name tf.placeholder_with_default is deprecated. Please use tf.compat.v1.placeholder_with_default instead.\n",
      "\n",
      "W0730 12:15:53.397034 140330552887040 deprecation.py:506] From /home/matthew/anaconda3/lib/python3.7/site-packages/keras/backend/tensorflow_backend.py:3445: calling dropout (from tensorflow.python.ops.nn_ops) with keep_prob is deprecated and will be removed in a future version.\n",
      "Instructions for updating:\n",
      "Please use `rate` instead of `keep_prob`. Rate should be set to `rate = 1 - keep_prob`.\n"
     ]
    }
   ],
   "source": [
    "model = Sequential()\n",
    "model.add(Conv2D(64, kernel_size=(3,3), activation = 'relu', input_shape=(28, 28 ,1) ))\n",
    "model.add(MaxPooling2D(pool_size = (2, 2)))\n",
    "\n",
    "model.add(Conv2D(64, kernel_size = (3, 3), activation = 'relu'))\n",
    "model.add(MaxPooling2D(pool_size = (2, 2)))\n",
    "\n",
    "model.add(Conv2D(64, kernel_size = (3, 3), activation = 'relu'))\n",
    "model.add(MaxPooling2D(pool_size = (2, 2)))\n",
    "\n",
    "model.add(Flatten())\n",
    "model.add(Dense(128, activation = 'relu'))\n",
    "model.add(Dropout(0.20))\n",
    "model.add(Dense(num_classes, activation = 'softmax'))\n"
   ]
  },
  {
   "cell_type": "code",
   "execution_count": 14,
   "metadata": {},
   "outputs": [],
   "source": [
    "model.compile(loss = keras.losses.categorical_crossentropy, optimizer=keras.optimizers.Adam(),\n",
    "              metrics=['accuracy'])"
   ]
  },
  {
   "cell_type": "code",
   "execution_count": 15,
   "metadata": {},
   "outputs": [
    {
     "name": "stdout",
     "output_type": "stream",
     "text": [
      "_________________________________________________________________\n",
      "Layer (type)                 Output Shape              Param #   \n",
      "=================================================================\n",
      "conv2d_1 (Conv2D)            (None, 26, 26, 64)        640       \n",
      "_________________________________________________________________\n",
      "max_pooling2d_1 (MaxPooling2 (None, 13, 13, 64)        0         \n",
      "_________________________________________________________________\n",
      "conv2d_2 (Conv2D)            (None, 11, 11, 64)        36928     \n",
      "_________________________________________________________________\n",
      "max_pooling2d_2 (MaxPooling2 (None, 5, 5, 64)          0         \n",
      "_________________________________________________________________\n",
      "conv2d_3 (Conv2D)            (None, 3, 3, 64)          36928     \n",
      "_________________________________________________________________\n",
      "max_pooling2d_3 (MaxPooling2 (None, 1, 1, 64)          0         \n",
      "_________________________________________________________________\n",
      "flatten_1 (Flatten)          (None, 64)                0         \n",
      "_________________________________________________________________\n",
      "dense_1 (Dense)              (None, 128)               8320      \n",
      "_________________________________________________________________\n",
      "dropout_1 (Dropout)          (None, 128)               0         \n",
      "_________________________________________________________________\n",
      "dense_2 (Dense)              (None, 24)                3096      \n",
      "=================================================================\n",
      "Total params: 85,912\n",
      "Trainable params: 85,912\n",
      "Non-trainable params: 0\n",
      "_________________________________________________________________\n"
     ]
    }
   ],
   "source": [
    "model.summary()"
   ]
  },
  {
   "cell_type": "code",
   "execution_count": 16,
   "metadata": {},
   "outputs": [
    {
     "name": "stderr",
     "output_type": "stream",
     "text": [
      "W0730 12:17:20.275967 140330552887040 deprecation.py:323] From /home/matthew/anaconda3/lib/python3.7/site-packages/tensorflow/python/ops/math_grad.py:1250: add_dispatch_support.<locals>.wrapper (from tensorflow.python.ops.array_ops) is deprecated and will be removed in a future version.\n",
      "Instructions for updating:\n",
      "Use tf.where in 2.0, which has the same broadcast rule as np.where\n"
     ]
    },
    {
     "name": "stdout",
     "output_type": "stream",
     "text": [
      "Train on 19218 samples, validate on 8237 samples\n",
      "Epoch 1/20\n",
      "19218/19218 [==============================] - 15s 779us/step - loss: 2.6660 - acc: 0.1764 - val_loss: 1.8809 - val_acc: 0.3714\n",
      "Epoch 2/20\n",
      "19218/19218 [==============================] - 15s 762us/step - loss: 1.4287 - acc: 0.5292 - val_loss: 0.9601 - val_acc: 0.7090\n",
      "Epoch 3/20\n",
      "19218/19218 [==============================] - 15s 768us/step - loss: 0.8367 - acc: 0.7186 - val_loss: 0.5294 - val_acc: 0.8417\n",
      "Epoch 4/20\n",
      "19218/19218 [==============================] - 15s 762us/step - loss: 0.5184 - acc: 0.8252 - val_loss: 0.3915 - val_acc: 0.8656\n",
      "Epoch 5/20\n",
      "19218/19218 [==============================] - 15s 775us/step - loss: 0.3365 - acc: 0.8872 - val_loss: 0.2087 - val_acc: 0.9403\n",
      "Epoch 6/20\n",
      "19218/19218 [==============================] - 18s 948us/step - loss: 0.2341 - acc: 0.9240 - val_loss: 0.1508 - val_acc: 0.9584\n",
      "Epoch 7/20\n",
      "19218/19218 [==============================] - 24s 1ms/step - loss: 0.1565 - acc: 0.9515 - val_loss: 0.0932 - val_acc: 0.9749\n",
      "Epoch 8/20\n",
      "19218/19218 [==============================] - 17s 897us/step - loss: 0.1160 - acc: 0.9650 - val_loss: 0.0516 - val_acc: 0.9908\n",
      "Epoch 9/20\n",
      "19218/19218 [==============================] - 18s 918us/step - loss: 0.0854 - acc: 0.9748 - val_loss: 0.0431 - val_acc: 0.9911\n",
      "Epoch 10/20\n",
      "19218/19218 [==============================] - 18s 941us/step - loss: 0.0607 - acc: 0.9846 - val_loss: 0.0269 - val_acc: 0.9965\n",
      "Epoch 11/20\n",
      "19218/19218 [==============================] - 15s 798us/step - loss: 0.0474 - acc: 0.9872 - val_loss: 0.0209 - val_acc: 0.9981\n",
      "Epoch 12/20\n",
      "19218/19218 [==============================] - 16s 817us/step - loss: 0.0425 - acc: 0.9885 - val_loss: 0.0129 - val_acc: 0.9989\n",
      "Epoch 13/20\n",
      "19218/19218 [==============================] - 15s 805us/step - loss: 0.0328 - acc: 0.9921 - val_loss: 0.0162 - val_acc: 0.9979\n",
      "Epoch 14/20\n",
      "19218/19218 [==============================] - 15s 778us/step - loss: 0.0252 - acc: 0.9942 - val_loss: 0.0088 - val_acc: 0.9985\n",
      "Epoch 15/20\n",
      "19218/19218 [==============================] - 16s 852us/step - loss: 0.0282 - acc: 0.9932 - val_loss: 0.0054 - val_acc: 0.9993\n",
      "Epoch 16/20\n",
      "19218/19218 [==============================] - 15s 759us/step - loss: 0.0197 - acc: 0.9951 - val_loss: 0.0049 - val_acc: 0.9999\n",
      "Epoch 17/20\n",
      "19218/19218 [==============================] - 15s 756us/step - loss: 0.0162 - acc: 0.9959 - val_loss: 0.0076 - val_acc: 0.9985\n",
      "Epoch 18/20\n",
      "19218/19218 [==============================] - 15s 755us/step - loss: 0.0177 - acc: 0.9956 - val_loss: 0.0048 - val_acc: 0.9995\n",
      "Epoch 19/20\n",
      "19218/19218 [==============================] - 14s 752us/step - loss: 0.0237 - acc: 0.9930 - val_loss: 0.0037 - val_acc: 0.9995\n",
      "Epoch 20/20\n",
      "19218/19218 [==============================] - 14s 751us/step - loss: 0.0146 - acc: 0.9953 - val_loss: 0.0050 - val_acc: 0.9990\n"
     ]
    }
   ],
   "source": [
    "history = model.fit(x_train, y_train, validation_data = (x_test, y_test), epochs=epochs, batch_size=batch_size)"
   ]
  },
  {
   "cell_type": "code",
   "execution_count": 15,
   "metadata": {},
   "outputs": [
    {
     "name": "stdout",
     "output_type": "stream",
     "text": [
      "Final loss: 2.5972, final accuracy: 0.1782\n"
     ]
    }
   ],
   "source": [
    "final_loss, final_acc = model.evaluate(x_test, y_test, verbose=0)\n",
    "print(\"Final loss: {0:.4f}, final accuracy: {1:.4f}\".format(final_loss, final_acc))"
   ]
  },
  {
   "cell_type": "code",
   "execution_count": null,
   "metadata": {},
   "outputs": [],
   "source": []
  }
 ],
 "metadata": {
  "kernelspec": {
   "display_name": "Python 3",
   "language": "python",
   "name": "python3"
  },
  "language_info": {
   "codemirror_mode": {
    "name": "ipython",
    "version": 3
   },
   "file_extension": ".py",
   "mimetype": "text/x-python",
   "name": "python",
   "nbconvert_exporter": "python",
   "pygments_lexer": "ipython3",
   "version": "3.7.3"
  }
 },
 "nbformat": 4,
 "nbformat_minor": 2
}
